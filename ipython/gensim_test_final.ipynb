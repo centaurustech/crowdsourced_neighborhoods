{
 "metadata": {
  "name": "",
  "signature": "sha256:83e9c44b6aa06705d9fdf37eb728f18e30ad5c6bdba53e78a00fca48b5d275ca"
 },
 "nbformat": 3,
 "nbformat_minor": 0,
 "worksheets": [
  {
   "cells": [
    {
     "cell_type": "code",
     "collapsed": false,
     "input": [
      "from gensim import corpora, models, similarities\n",
      "from itertools import chain\n",
      "\n",
      "\"\"\" DEMO \"\"\"\n",
      "documents = [\"Human machine interface for lab abc computer applications\",\n",
      "             \"A survey of user opinion of computer system response time\",\n",
      "             \"The EPS user interface management system\",\n",
      "             \"System and human system engineering testing of EPS\",\n",
      "             \"Relation of user perceived response time to error measurement\",\n",
      "             \"The generation of random binary unordered trees\",\n",
      "             \"The intersection graph of paths in trees\",\n",
      "             \"Graph minors IV Widths of trees and well quasi ordering\",\n",
      "             \"Graph minors A survey\"]\n",
      "\n",
      "# remove common words and tokenize\n",
      "stoplist = set('for a of the and to in'.split())\n",
      "texts = [[word for word in document.lower().split() if word not in stoplist]\n",
      "         for document in documents]\n",
      "\n",
      "# remove words that appear only once\n",
      "all_tokens = sum(texts, [])\n",
      "tokens_once = set(word for word in set(all_tokens) if all_tokens.count(word) == 1)\n",
      "texts = [[word for word in text if word not in tokens_once] for text in texts]\n",
      "print texts"
     ],
     "language": "python",
     "metadata": {},
     "outputs": [
      {
       "output_type": "stream",
       "stream": "stdout",
       "text": [
        "[['human', 'interface', 'computer'], ['survey', 'user', 'computer', 'system', 'response', 'time'], ['eps', 'user', 'interface', 'system'], ['system', 'human', 'system', 'eps'], ['user', 'response', 'time'], ['trees'], ['graph', 'trees'], ['graph', 'minors', 'trees'], ['graph', 'minors', 'survey']]\n"
       ]
      }
     ],
     "prompt_number": 8
    },
    {
     "cell_type": "code",
     "collapsed": false,
     "input": [
      "# Create Dictionary.\n",
      "id2word = corpora.Dictionary(texts)\n",
      "# Creates the Bag of Word corpus.\n",
      "mm = [id2word.doc2bow(text) for text in texts]\n",
      "print mm\n",
      "# Trains the LDA models.\n",
      "lda = models.ldamodel.LdaModel(corpus=mm, id2word=id2word, num_topics=3, update_every=1, chunksize=10000, passes=1)\n",
      "\n",
      "print lda"
     ],
     "language": "python",
     "metadata": {},
     "outputs": [
      {
       "output_type": "stream",
       "stream": "stderr",
       "text": [
        "WARNING:gensim.models.ldamodel:too few updates, training might not converge; consider increasing the number of passes or iterations to improve accuracy\n"
       ]
      },
      {
       "output_type": "stream",
       "stream": "stdout",
       "text": [
        "[[(0, 1), (1, 1), (2, 1)], [(0, 1), (3, 1), (4, 1), (5, 1), (6, 1), (7, 1)], [(2, 1), (5, 1), (7, 1), (8, 1)], [(1, 1), (5, 2), (8, 1)], [(3, 1), (6, 1), (7, 1)], [(9, 1)], [(9, 1), (10, 1)], [(9, 1), (10, 1), (11, 1)], [(4, 1), (10, 1), (11, 1)]]\n",
        "LdaModel(num_terms=12, num_topics=3, decay=0.5, chunksize=10000, alpha=[ 0.33333333  0.33333333  0.33333333])\n"
       ]
      }
     ],
     "prompt_number": 17
    },
    {
     "cell_type": "code",
     "collapsed": false,
     "input": [
      "# Prints the topics.\n",
      "for top in lda.print_topics():\n",
      "  print top\n",
      "print\n",
      "\n",
      "# Assigns the topics to the documents in corpus\n",
      "lda_corpus = lda[mm]\n",
      "\n",
      "print len(mm)\n",
      "\n",
      "\n",
      "# Find the threshold, let's set the threshold to be 1/#clusters,\n",
      "# To prove that the threshold is sane, we average the sum of all probabilities:\n",
      "\n",
      "# this just flattens the list of scores \n",
      "scores = list(chain(*[[score for topic,score in topic] for topic in [doc for doc in lda_corpus]]))\n",
      "threshold = sum(scores)/len(scores)\n",
      "'''print threshold\n",
      "print'''\n",
      "#print documents\n",
      "'''for i,j in zip(lda_corpus,documents):\n",
      "    print i, j'''\n",
      "cluster1 = [j for i,j in zip(lda_corpus,documents) if i[0][1] > threshold]\n",
      "cluster2 = [j for i,j in zip(lda_corpus,documents) if i[1][1] > threshold]\n",
      "cluster3 = [j for i,j in zip(lda_corpus,documents) if i[2][1] > threshold]\n",
      "\n",
      "print scores\n",
      "\n",
      "print cluster1\n",
      "print cluster2\n",
      "print cluster3"
     ],
     "language": "python",
     "metadata": {},
     "outputs": [
      {
       "output_type": "stream",
       "stream": "stdout",
       "text": [
        "0.105*trees + 0.090*graph + 0.085*interface + 0.084*user + 0.083*minors + 0.083*response + 0.081*system + 0.079*human + 0.079*computer + 0.078*survey\n",
        "0.203*system + 0.154*user + 0.109*time + 0.109*eps + 0.107*response + 0.065*survey + 0.064*computer + 0.063*human + 0.063*interface + 0.023*trees\n",
        "0.202*graph + 0.196*trees + 0.142*minors + 0.085*human + 0.084*interface + 0.083*computer + 0.083*survey + 0.026*system + 0.026*user + 0.025*response\n",
        "\n",
        "9\n",
        "[0.087395422122211228, 0.097886454882371715, 0.81471812299541713, 0.049172290359623477, 0.89952054505617896, 0.051307164584197533, 0.068811292616689668, 0.86059086214886449, 0.070597845234445941, 0.068459020782148106, 0.86083301536358103, 0.070707963854270986, 0.085482229837142917, 0.83065363401945225, 0.083864136143404919, 0.17217652927796612, 0.16754219386797012, 0.66028127685406379, 0.11388963865894301, 0.1116127929667554, 0.77449756837430161, 0.085349915267499993, 0.083710976076525098, 0.83093910865597487, 0.085671144619130044, 0.087076151390180503, 0.8272527039906894]\n",
        "[]\n",
        "['A survey of user opinion of computer system response time', 'The EPS user interface management system', 'System and human system engineering testing of EPS', 'Relation of user perceived response time to error measurement']\n",
        "['Human machine interface for lab abc computer applications', 'The generation of random binary unordered trees', 'The intersection graph of paths in trees', 'Graph minors IV Widths of trees and well quasi ordering', 'Graph minors A survey']\n"
       ]
      }
     ],
     "prompt_number": 16
    },
    {
     "cell_type": "code",
     "collapsed": false,
     "input": [
      "list(lda_corpus)"
     ],
     "language": "python",
     "metadata": {},
     "outputs": [
      {
       "metadata": {},
       "output_type": "pyout",
       "prompt_number": 11,
       "text": [
        "[[(0, 0.087394551190070113),\n",
        "  (1, 0.097808350714820289),\n",
        "  (2, 0.81479709809510958)],\n",
        " [(0, 0.049172341750002214),\n",
        "  (1, 0.8995170698267323),\n",
        "  (2, 0.051310588423265566)],\n",
        " [(0, 0.068815272939535668),\n",
        "  (1, 0.8605436199752452),\n",
        "  (2, 0.070641107085219174)],\n",
        " [(0, 0.068459313080336773),\n",
        "  (1, 0.8608395729792363),\n",
        "  (2, 0.070701113940426857)],\n",
        " [(0, 0.085496071529284415),\n",
        "  (1, 0.83063964774851118),\n",
        "  (2, 0.083864280722204462)],\n",
        " [(0, 0.17216571412717882), (1, 0.1675419985580264), (2, 0.66029228731479472)],\n",
        " [(0, 0.11388678087538491), (1, 0.1116127619527586), (2, 0.77450045717185656)],\n",
        " [(0, 0.08534963766812606),\n",
        "  (1, 0.083710974065821619),\n",
        "  (2, 0.83093938826605229)],\n",
        " [(0, 0.085671078451942356),\n",
        "  (1, 0.087082283347290804),\n",
        "  (2, 0.82724663820076683)]]"
       ]
      }
     ],
     "prompt_number": 11
    },
    {
     "cell_type": "code",
     "collapsed": false,
     "input": [],
     "language": "python",
     "metadata": {},
     "outputs": [],
     "prompt_number": 11
    }
   ],
   "metadata": {}
  }
 ]
}