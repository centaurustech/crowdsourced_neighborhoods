{
 "metadata": {
  "name": "",
  "signature": "sha256:5e9ad9d5435e934bf2f8fcc007065df44948d92f1d5eb5268ed00122bc6934f8"
 },
 "nbformat": 3,
 "nbformat_minor": 0,
 "worksheets": [
  {
   "cells": [
    {
     "cell_type": "code",
     "collapsed": false,
     "input": [
      "from gensim import corpora, models, similarities\n",
      "from itertools import chain\n",
      "\n",
      "\"\"\" DEMO \"\"\"\n",
      "documents = [\"Human machine interface for lab abc computer applications\",\n",
      "             \"A survey of user opinion of computer system response time\",\n",
      "             \"The EPS user interface management system\",\n",
      "             \"System and human system engineering testing of EPS\",\n",
      "             \"Relation of user perceived response time to error measurement\",\n",
      "             \"The generation of random binary unordered trees\",\n",
      "             \"The intersection graph of paths in trees\",\n",
      "             \"Graph minors IV Widths of trees and well quasi ordering\",\n",
      "             \"Graph minors A survey\"]\n",
      "\n",
      "# remove common words and tokenize\n",
      "stoplist = set('for a of the and to in'.split())\n",
      "texts = [[word for word in document.lower().split() if word not in stoplist]\n",
      "         for document in documents]\n",
      "\n",
      "# remove words that appear only once\n",
      "all_tokens = sum(texts, [])\n",
      "tokens_once = set(word for word in set(all_tokens) if all_tokens.count(word) == 1)\n",
      "texts = [[word for word in text if word not in tokens_once] for text in texts]\n",
      "print texts"
     ],
     "language": "python",
     "metadata": {},
     "outputs": [
      {
       "output_type": "stream",
       "stream": "stdout",
       "text": [
        "[['human', 'interface', 'computer'], ['survey', 'user', 'computer', 'system', 'response', 'time'], ['eps', 'user', 'interface', 'system'], ['system', 'human', 'system', 'eps'], ['user', 'response', 'time'], ['trees'], ['graph', 'trees'], ['graph', 'minors', 'trees'], ['graph', 'minors', 'survey']]\n"
       ]
      }
     ],
     "prompt_number": 2
    },
    {
     "cell_type": "code",
     "collapsed": false,
     "input": [
      "# Create Dictionary.\n",
      "id2word = corpora.Dictionary(texts)\n",
      "# Creates the Bag of Word corpus.\n",
      "mm = [id2word.doc2bow(text) for text in texts]\n",
      "\n",
      "# Trains the LDA models.\n",
      "lda = models.ldamodel.LdaModel(corpus=mm, id2word=id2word, num_topics=3, update_every=1, chunksize=10000, passes=1)\n",
      "\n",
      "print lda"
     ],
     "language": "python",
     "metadata": {},
     "outputs": [
      {
       "output_type": "stream",
       "stream": "stderr",
       "text": [
        "WARNING:gensim.models.ldamodel:too few updates, training might not converge; consider increasing the number of passes or iterations to improve accuracy\n"
       ]
      },
      {
       "output_type": "stream",
       "stream": "stdout",
       "text": [
        "Dictionary(12 unique tokens: [u'minors', u'graph', u'system', u'trees', u'eps']...) [[(0, 1), (1, 1), (2, 1)], [(0, 1), (3, 1), (4, 1), (5, 1), (6, 1), (7, 1)], [(2, 1), (5, 1), (7, 1), (8, 1)], [(1, 1), (5, 2), (8, 1)], [(3, 1), (6, 1), (7, 1)], [(9, 1)], [(9, 1), (10, 1)], [(9, 1), (10, 1), (11, 1)], [(4, 1), (10, 1), (11, 1)]]\n",
        "LdaModel(num_terms=12, num_topics=3, decay=0.5, chunksize=10000, alpha=[ 0.33333333  0.33333333  0.33333333])"
       ]
      },
      {
       "output_type": "stream",
       "stream": "stdout",
       "text": [
        "\n"
       ]
      }
     ],
     "prompt_number": 5
    },
    {
     "cell_type": "code",
     "collapsed": false,
     "input": [
      "# Prints the topics.\n",
      "for top in lda.print_topics():\n",
      "  print top\n",
      "print\n",
      "\n",
      "# Assigns the topics to the documents in corpus\n",
      "lda_corpus = lda[mm]\n",
      "\n",
      "# Find the threshold, let's set the threshold to be 1/#clusters,\n",
      "# To prove that the threshold is sane, we average the sum of all probabilities:\n",
      "\n",
      "# this just flattens the list of scores \n",
      "scores = list(chain(*[[score for topic,score in topic] for topic in [doc for doc in lda_corpus]]))\n",
      "threshold = sum(scores)/len(scores)\n",
      "'''print threshold\n",
      "print'''\n",
      "#print documents\n",
      "'''for i,j in zip(lda_corpus,documents):\n",
      "    print i, j'''\n",
      "cluster1 = [j for i,j in zip(lda_corpus,documents) if i[0][1] > threshold]\n",
      "cluster2 = [j for i,j in zip(lda_corpus,documents) if i[1][1] > threshold]\n",
      "cluster3 = [j for i,j in zip(lda_corpus,documents) if i[2][1] > threshold]\n",
      "\n",
      "\n",
      "print cluster1\n",
      "print cluster2\n",
      "print cluster3"
     ],
     "language": "python",
     "metadata": {},
     "outputs": [
      {
       "output_type": "stream",
       "stream": "stdout",
       "text": [
        "0.229*graph + 0.223*trees + 0.160*minors + 0.105*survey + 0.044*system + 0.041*computer + 0.039*response + 0.039*user + 0.038*time + 0.028*human\n",
        "0.201*system + 0.118*human + 0.117*user + 0.116*eps + 0.116*time + 0.116*response + 0.041*trees + 0.037*graph + 0.036*minors + 0.034*computer\n",
        "0.141*interface + 0.135*user + 0.133*system + 0.129*computer + 0.083*eps + 0.081*human + 0.074*survey + 0.073*time + 0.072*response + 0.028*trees\n",
        "\n",
        "['The generation of random binary unordered trees', 'The intersection graph of paths in trees', 'Graph minors IV Widths of trees and well quasi ordering', 'Graph minors A survey']\n",
        "['System and human system engineering testing of EPS', 'Relation of user perceived response time to error measurement']\n",
        "['Human machine interface for lab abc computer applications', 'A survey of user opinion of computer system response time', 'The EPS user interface management system']\n"
       ]
      }
     ],
     "prompt_number": 4
    },
    {
     "cell_type": "code",
     "collapsed": false,
     "input": [],
     "language": "python",
     "metadata": {},
     "outputs": [],
     "prompt_number": 4
    }
   ],
   "metadata": {}
  }
 ]
}