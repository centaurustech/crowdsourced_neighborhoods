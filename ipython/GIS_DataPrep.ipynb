{
 "metadata": {
  "name": "",
  "signature": "sha256:f4b88e0d5562a1db7210bc05ac29c1571a0f346c29a59ea5ffc906b2fd82d3bf"
 },
 "nbformat": 3,
 "nbformat_minor": 0,
 "worksheets": [
  {
   "cells": [
    {
     "cell_type": "heading",
     "level": 1,
     "metadata": {},
     "source": [
      "New York City Data Collection and Prep "
     ]
    },
    {
     "cell_type": "markdown",
     "metadata": {},
     "source": [
      "testest"
     ]
    },
    {
     "cell_type": "code",
     "collapsed": false,
     "input": [],
     "language": "python",
     "metadata": {},
     "outputs": []
    }
   ],
   "metadata": {}
  }
 ]
}