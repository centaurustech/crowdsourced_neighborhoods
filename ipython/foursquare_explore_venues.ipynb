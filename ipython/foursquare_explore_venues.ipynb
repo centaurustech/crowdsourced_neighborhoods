{
 "metadata": {
  "name": "",
  "signature": "sha256:49d934121fe0c99c11b687c779219b803fc61e414a1f92595cda1d2dd22ef252"
 },
 "nbformat": 3,
 "nbformat_minor": 0,
 "worksheets": [
  {
   "cells": [
    {
     "cell_type": "code",
     "collapsed": false,
     "input": [
      "from os import listdir\n",
      "from os.path import isfile, isdir, join\n",
      "from ttp import ttp\n",
      "from itertools import chain\n",
      "\n",
      "import json\n",
      "import csv"
     ],
     "language": "python",
     "metadata": {},
     "outputs": [],
     "prompt_number": 1
    },
    {
     "cell_type": "code",
     "collapsed": false,
     "input": [
      "# function that opens twitter parsed jsons on a given file path, and adds the venue type to the dictionary\n",
      "# the sentence must contain words that are mostly english\n",
      "def add_venue_type(foursq_path, venue_type):\n",
      "    venue_path = join(foursq_path, venue_type)\n",
      "    \n",
      "    foursq_jsons = [ f for f in listdir(venue_path) if isfile(join(venue_path,f))]\n",
      "    \n",
      "    all_venues = []\n",
      "    for f in foursq_jsons:\n",
      "        with open(join(venue_path,f)) as json_file:\n",
      "            venues = json.load(json_file).values()\n",
      "            for venue in venues:\n",
      "                venue['venue_type'] = venue_type\n",
      "                all_venues.append(venue)\n",
      "    return all_venues"
     ],
     "language": "python",
     "metadata": {},
     "outputs": [],
     "prompt_number": 2
    },
    {
     "cell_type": "code",
     "collapsed": false,
     "input": [
      "foursq_path = '../python/foursquare_explore/'\n",
      "venue_types = [direct for direct in listdir(foursq_path) if isdir(join(foursq_path, direct))]\n",
      "\n",
      "# create a single list of venue dictionaries with the venue type added\n",
      "all_venues = []\n",
      "for venue_type in venue_types:\n",
      "    all_venues.extend(add_venue_type(foursq_path, venue_type))"
     ],
     "language": "python",
     "metadata": {},
     "outputs": [],
     "prompt_number": 3
    },
    {
     "cell_type": "code",
     "collapsed": false,
     "input": [
      "# write the list into a single json file\n",
      "with open('json_foursquare/all_venues.json' , 'w' ) as f:\n",
      "    f.write( json.dumps(all_venues))"
     ],
     "language": "python",
     "metadata": {},
     "outputs": [],
     "prompt_number": 4
    },
    {
     "cell_type": "code",
     "collapsed": false,
     "input": [],
     "language": "python",
     "metadata": {},
     "outputs": []
    }
   ],
   "metadata": {}
  }
 ]
}