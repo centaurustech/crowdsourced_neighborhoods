{
 "metadata": {
  "name": "",
  "signature": "sha256:0ac7574fd6f9770c312abf01d508cce98300e3b37210347f971af63aa0523d51"
 },
 "nbformat": 3,
 "nbformat_minor": 0,
 "worksheets": [
  {
   "cells": [
    {
     "cell_type": "code",
     "collapsed": false,
     "input": [
      "from os import listdir\n",
      "from os.path import isfile, isdir, join\n",
      "from ttp import ttp\n",
      "from itertools import chain\n",
      "\n",
      "import json\n",
      "import csv"
     ],
     "language": "python",
     "metadata": {},
     "outputs": [],
     "prompt_number": 4
    },
    {
     "cell_type": "code",
     "collapsed": false,
     "input": [
      "# function that opens twitter parsed jsons on a given file path, and adds the venue type to the dictionary\n",
      "# the sentence must contain words that are mostly english\n",
      "def add_venue_type(foursq_path, venue_type):\n",
      "    venue_path = join(foursq_path, venue_type)\n",
      "    \n",
      "    foursq_jsons = [ f for f in listdir(venue_path) if isfile(join(venue_path,f))]\n",
      "    \n",
      "    all_venues = []\n",
      "    for f in foursq_jsons:\n",
      "        with open(join(venue_path,f)) as json_file:\n",
      "            venues = json.load(json_file).values()\n",
      "            for venue in venues:\n",
      "                venue['venue_type'] = venue_type\n",
      "                all_venues.append(venue)\n",
      "    return all_venues"
     ],
     "language": "python",
     "metadata": {},
     "outputs": [],
     "prompt_number": 37
    },
    {
     "cell_type": "code",
     "collapsed": false,
     "input": [
      "foursq_path = '../python/foursquare_explore/'\n",
      "venue_types = [direct for direct in listdir(foursq_path) if isdir(join(foursq_path, direct))]\n",
      "\n",
      "# create a single list of venue dictionaries with the venue type added\n",
      "all_venues = []\n",
      "for venue_type in venue_types:\n",
      "    all_venues.extend(add_venue_type(foursq_path, venue_type))"
     ],
     "language": "python",
     "metadata": {},
     "outputs": [],
     "prompt_number": 38
    },
    {
     "cell_type": "code",
     "collapsed": false,
     "input": [
      "# write the list into a single json file\n",
      "with open('json_foursquare/all_venues.json' , 'w' ) as f:\n",
      "    f.write( json.dumps(all_venues))"
     ],
     "language": "python",
     "metadata": {},
     "outputs": [
      {
       "ename": "NameError",
       "evalue": "name 'json' is not defined",
       "output_type": "pyerr",
       "traceback": [
        "\u001b[1;31m---------------------------------------------------------------------------\u001b[0m\n\u001b[1;31mNameError\u001b[0m                                 Traceback (most recent call last)",
        "\u001b[1;32m<ipython-input-1-7e42700272ae>\u001b[0m in \u001b[0;36m<module>\u001b[1;34m()\u001b[0m\n\u001b[0;32m      1\u001b[0m \u001b[1;32mwith\u001b[0m \u001b[0mopen\u001b[0m\u001b[1;33m(\u001b[0m\u001b[1;34m'json_foursquare/all_venues.json'\u001b[0m \u001b[1;33m,\u001b[0m \u001b[1;34m'w'\u001b[0m \u001b[1;33m)\u001b[0m \u001b[1;32mas\u001b[0m \u001b[0mf\u001b[0m\u001b[1;33m:\u001b[0m\u001b[1;33m\u001b[0m\u001b[0m\n\u001b[1;32m----> 2\u001b[1;33m     \u001b[0mf\u001b[0m\u001b[1;33m.\u001b[0m\u001b[0mwrite\u001b[0m\u001b[1;33m(\u001b[0m \u001b[0mjson\u001b[0m\u001b[1;33m.\u001b[0m\u001b[0mdumps\u001b[0m\u001b[1;33m(\u001b[0m\u001b[0mall_venues\u001b[0m\u001b[1;33m)\u001b[0m\u001b[1;33m)\u001b[0m\u001b[1;33m\u001b[0m\u001b[0m\n\u001b[0m",
        "\u001b[1;31mNameError\u001b[0m: name 'json' is not defined"
       ]
      }
     ],
     "prompt_number": 1
    },
    {
     "cell_type": "code",
     "collapsed": false,
     "input": [],
     "language": "python",
     "metadata": {},
     "outputs": []
    }
   ],
   "metadata": {}
  }
 ]
}