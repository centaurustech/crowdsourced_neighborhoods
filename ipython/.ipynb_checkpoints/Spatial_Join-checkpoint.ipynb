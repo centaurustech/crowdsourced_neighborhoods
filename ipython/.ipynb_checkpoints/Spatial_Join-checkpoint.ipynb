{
 "metadata": {
  "name": "",
  "signature": "sha256:77bc02f729494fded5bddd3d544c19293ae9692ff8ef00dee0c49ca13860ba48"
 },
 "nbformat": 3,
 "nbformat_minor": 0,
 "worksheets": [
  {
   "cells": [
    {
     "cell_type": "code",
     "collapsed": false,
     "input": [
      "import json\n",
      "import os\n",
      "import math\n",
      "import csv\n",
      "from StringIO import StringIO\n",
      "\n",
      "from os.path import isfile,join\n",
      "import shapefile\n",
      "import shapely\n",
      "import csv\n",
      "from pyproj import Proj, transform\n",
      "from shapely.geometry import Polygon\n",
      "from shapely.geometry import Point"
     ],
     "language": "python",
     "metadata": {},
     "outputs": [],
     "prompt_number": 37
    },
    {
     "cell_type": "code",
     "collapsed": false,
     "input": [
      "## Create shapefiles from twitter jsons\n",
      "\n",
      "def write_shapefiles(path):\n",
      "#     if not os.path.exists(path+\"/twitter_shapefiles\"):\n",
      "#         os.makedirs(\"twitter_shapefiles\")\n",
      "    length_files = len(os.listdir(path)) \n",
      "    files = os.listdir(path)\n",
      "    w = shapefile.Writer(shapefile.POINT)\n",
      "    w.field('sentiment')\n",
      "    w.field('neg')\n",
      "    w.field('tweet')\n",
      "    w.field('lat')\n",
      "    w.field('lon')\n",
      "    for item in files: \n",
      "        with open('%s%s' %(path, item)) as f: \n",
      "            try:\n",
      "                data = json.load(f)\n",
      "                w.point(data['lat'],data['lon'])\n",
      "                w.record(data['sentiment'],data['neg'],data['tweet'],data['lat'],data['lon'])\n",
      "\n",
      "            except ValueError:\n",
      "                print(\"data was not valid JSON\")\n",
      "    w.save('tweetshapes')\n",
      "            \n",
      "\n",
      "            \n",
      "write_shapefiles('/Users/wenfeixu/Dropbox (MIT)/MIT/2014_Fall/CS 109/final_project/crowdsourced_neighborhoods/ipython/json_twitter/')\n",
      "\n",
      "        "
     ],
     "language": "python",
     "metadata": {},
     "outputs": [
      {
       "output_type": "stream",
       "stream": "stdout",
       "text": [
        "data was not valid JSON\n"
       ]
      }
     ],
     "prompt_number": 50
    },
    {
     "cell_type": "code",
     "collapsed": false,
     "input": [
      "import pip\n",
      "installed_packages = pip.get_installed_distributions()\n",
      "installed_packages_list = sorted([\"%s==%s\" % (i.key, i.version)\n",
      "     for i in installed_packages])\n",
      "print(installed_packages_list)\n",
      "\n",
      "import dbfpy\n",
      "# from dbfpy import dbf\n",
      "\n"
     ],
     "language": "python",
     "metadata": {},
     "outputs": [
      {
       "output_type": "stream",
       "stream": "stdout",
       "text": [
        "['argparse==1.2.2', 'backports.ssl-match-hostname==3.4.0.2', 'beautifulsoup4==4.3.2', 'beautifulsoup==3.2.1', 'boto==2.32.1', 'certifi==14.05.14', 'counter==1.0.0', 'cython==0.21', 'decorator==3.4.0', 'flickr-api==0.5', 'flickrapi==2.0', 'foursquare==20130707', 'gdal==1.11.1', 'geojson==1.0.9', 'geopy==0.93dev-r84', 'gnureadline==6.3.3', 'google-api-python-client==1.2', 'googlemaps==1.0.2', 'httplib2==0.9', 'ipython==2.3.0', 'jinja2==2.7.3', 'jsonquery==1.0.0', 'lxml==3.4.0', 'markupsafe==0.23', 'matplotlib==1.4.0', 'modestmaps==1.4.6', 'mrjob==0.4.2', 'mysql-utilities==1.3.6', 'networkx==1.9', 'numpy==1.8.2', 'oauth2==1.5.211', 'oauth==1.0.1', 'oauthlib==0.7.1', 'pandas==0.14.1', 'patsy==0.3.0', 'pattern==2.6', 'pgsql==1.1', 'poster==0.8.1', 'psycopg2==2.5.2', 'pygeocoder==1.2.5', 'pyparsing==2.0.2', 'pyproj==1.9.3', 'pyshp==1.2.1', 'python-dateutil==2.2', 'pytz==2014.7', 'pyyaml==3.11', 'pyzmq==14.3.1', 'regex==2014.06.28', 'requests-oauthlib==0.4.2', 'requests-toolbelt==0.3.1', 'requests==2.4.3', 'scikit-learn==0.15.1', 'scipy==0.14.0', 'seaborn==0.3.1', 'shapely==1.5.1', 'simplejson==3.6.0', 'six==1.8.0', 'sqlalchemy==0.9.8', 'statsmodels==0.6.0-rc1', 'tornado==4.0.1', 'twython==3.2.0', 'urllib3==1.9', 'virtualenv==1.11.6', 'wsgiref==0.1.2', 'xlrd==0.9.3']\n"
       ]
      },
      {
       "ename": "ImportError",
       "evalue": "No module named dbfpy",
       "output_type": "pyerr",
       "traceback": [
        "\u001b[0;31m---------------------------------------------------------------------------\u001b[0m\n\u001b[0;31mImportError\u001b[0m                               Traceback (most recent call last)",
        "\u001b[0;32m<ipython-input-57-d69931f22235>\u001b[0m in \u001b[0;36m<module>\u001b[0;34m()\u001b[0m\n\u001b[1;32m      5\u001b[0m \u001b[0;32mprint\u001b[0m\u001b[0;34m(\u001b[0m\u001b[0minstalled_packages_list\u001b[0m\u001b[0;34m)\u001b[0m\u001b[0;34m\u001b[0m\u001b[0m\n\u001b[1;32m      6\u001b[0m \u001b[0;34m\u001b[0m\u001b[0m\n\u001b[0;32m----> 7\u001b[0;31m \u001b[0;32mimport\u001b[0m \u001b[0mdbfpy\u001b[0m\u001b[0;34m\u001b[0m\u001b[0m\n\u001b[0m\u001b[1;32m      8\u001b[0m \u001b[0;31m# from dbfpy import dbf\u001b[0m\u001b[0;34m\u001b[0m\u001b[0;34m\u001b[0m\u001b[0m\n\u001b[1;32m      9\u001b[0m \u001b[0;34m\u001b[0m\u001b[0m\n",
        "\u001b[0;31mImportError\u001b[0m: No module named dbfpy"
       ]
      }
     ],
     "prompt_number": 57
    },
    {
     "cell_type": "code",
     "collapsed": false,
     "input": [
      "\n",
      "# Load database tables\n",
      "\n",
      "from dbfpy import dbf\n",
      "\n",
      "db = dbf.Dbf(\"/Users/wenfeixu/Dropbox (MIT)/MIT/2014_Fall/CS 109/final_project/crowdsourced_neighborhoods/ipython/tweetshapes.dbf\")\n",
      "\n",
      "# #Editing a value, assuming you want to edit the first field of the first record\n",
      "# rec = db[0]\n",
      "# rec[\"FIRST_FIELD\"] = \"New value\"\n",
      "# rec.store()\n",
      "# del rec\n",
      "# db.close()\n",
      "\n",
      "#Load the a shapefile of polygons and convert it to shapely polygon objects\n",
      "polygons_sf = shapefile.Reader(\"/Users/wenfeixu/Dropbox (MIT)/MIT/2014_Fall/CS 109/final_project/Base data/Boundaries/nynta_14c/nynta.shp\")\n",
      "# polygons_sf = shapefile.Reader(\"ZillowNeighborhoods-NY.shp\")\n",
      "polygon_shapes = polygons_sf.shapes()\n",
      "polygon_points = [q.points for q in polygon_shapes ]\n",
      "\n",
      "\n",
      "\n",
      "## Code for points with x,y coordinates needing conversion into lat,lons:\n",
      "#  Change from x,y coordinates to Lat, Lons.  \n",
      "p = Proj(init = \"esri:102718\",preserve_units=True)\n",
      "for i in polygon_points: \n",
      "    for j in i: \n",
      "        j[0],j[1] = p(j[0],j[1], inverse =True)\n",
      "# Define polygons with new projections\n",
      "polygons = [Polygon(q) for q in polygon_points]\n",
      "\n",
      "\n",
      "# Define polygons\n",
      "polygons = [Polygon(q) for q in polygon_points]\n",
      "\n",
      "   \n",
      "#Load the a shapefile of points and convert it to shapely point objects\n",
      "points_sf = shapefile.Reader(\"tweetshapes.shp\")\n",
      "point_shapes = points_sf.shapes()\n",
      "\n",
      "point_coords= [q.points[0] for q in point_shapes ]\n",
      "points = [Point(q.points[0]) for q in point_shapes ]\n",
      "#Switch order of the coordinates\n",
      "# point_coords = map(lambda x: [x[1],x[0]],point_coords)\n",
      "\n",
      "\n",
      "# Create new points from orig\n",
      "new_points = [None]*len(points)\n",
      "for i in range(len(new_points)):\n",
      "    new_points[i] = shapely.geometry.Point(point_coords[i])\n",
      "\n",
      "\n",
      "# Find matches\n",
      "matches=[]\n",
      "for i in range(len(new_points)): #Iterate through each point\n",
      "    temp= None\n",
      "    for j in range(len(polygons)):\n",
      "        if new_points[i].within(polygons[j]):\n",
      "            # print \"Match found! \",j\n",
      "            temp=j\n",
      "            break\n",
      "    matches.append(temp)\n",
      "print matches"
     ],
     "language": "python",
     "metadata": {},
     "outputs": [
      {
       "ename": "ImportError",
       "evalue": "No module named dbfpy",
       "output_type": "pyerr",
       "traceback": [
        "\u001b[0;31m---------------------------------------------------------------------------\u001b[0m\n\u001b[0;31mImportError\u001b[0m                               Traceback (most recent call last)",
        "\u001b[0;32m<ipython-input-54-6f8e6e65347e>\u001b[0m in \u001b[0;36m<module>\u001b[0;34m()\u001b[0m\n\u001b[1;32m      2\u001b[0m \u001b[0;31m# Load database tables\u001b[0m\u001b[0;34m\u001b[0m\u001b[0;34m\u001b[0m\u001b[0m\n\u001b[1;32m      3\u001b[0m \u001b[0;34m\u001b[0m\u001b[0m\n\u001b[0;32m----> 4\u001b[0;31m \u001b[0;32mfrom\u001b[0m \u001b[0mdbfpy\u001b[0m \u001b[0;32mimport\u001b[0m \u001b[0mdbf\u001b[0m\u001b[0;34m\u001b[0m\u001b[0m\n\u001b[0m\u001b[1;32m      5\u001b[0m \u001b[0;34m\u001b[0m\u001b[0m\n\u001b[1;32m      6\u001b[0m \u001b[0mdb\u001b[0m \u001b[0;34m=\u001b[0m \u001b[0mdbf\u001b[0m\u001b[0;34m.\u001b[0m\u001b[0mDbf\u001b[0m\u001b[0;34m(\u001b[0m\u001b[0;34m\"/Users/wenfeixu/Dropbox (MIT)/MIT/2014_Fall/CS 109/final_project/crowdsourced_neighborhoods/ipython/tweetshapes.dbf\"\u001b[0m\u001b[0;34m)\u001b[0m\u001b[0;34m\u001b[0m\u001b[0m\n",
        "\u001b[0;31mImportError\u001b[0m: No module named dbfpy"
       ]
      }
     ],
     "prompt_number": 54
    },
    {
     "cell_type": "code",
     "collapsed": false,
     "input": [],
     "language": "python",
     "metadata": {},
     "outputs": []
    }
   ],
   "metadata": {}
  }
 ]
}