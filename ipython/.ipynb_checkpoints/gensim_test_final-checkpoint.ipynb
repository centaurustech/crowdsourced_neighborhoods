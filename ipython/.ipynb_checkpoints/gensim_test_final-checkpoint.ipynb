{
 "metadata": {
  "name": "",
  "signature": "sha256:a0ef721e90b0c6b304b82202d2a420473c0091bf07b07c94da28fe43bad8e234"
 },
 "nbformat": 3,
 "nbformat_minor": 0,
 "worksheets": [
  {
   "cells": [
    {
     "cell_type": "code",
     "collapsed": false,
     "input": [
      "from gensim import corpora, models, similarities\n",
      "from itertools import chain\n",
      "\n",
      "\"\"\" DEMO \"\"\"\n",
      "documents = [\"Human machine interface for lab abc computer applications\",\n",
      "             \"A survey of user opinion of computer system response time\",\n",
      "             \"The EPS user interface management system\",\n",
      "             \"System and human system engineering testing of EPS\",\n",
      "             \"Relation of user perceived response time to error measurement\",\n",
      "             \"The generation of random binary unordered trees\",\n",
      "             \"The intersection graph of paths in trees\",\n",
      "             \"Graph minors IV Widths of trees and well quasi ordering\",\n",
      "             \"Graph minors A survey\"]\n",
      "\n",
      "# remove common words and tokenize\n",
      "stoplist = set('for a of the and to in'.split())\n",
      "texts = [[word for word in document.lower().split() if word not in stoplist]\n",
      "         for document in documents]\n",
      "\n",
      "# remove words that appear only once\n",
      "all_tokens = sum(texts, [])\n",
      "tokens_once = set(word for word in set(all_tokens) if all_tokens.count(word) == 1)\n",
      "texts = [[word for word in text if word not in tokens_once] for text in texts]\n",
      "print texts"
     ],
     "language": "python",
     "metadata": {},
     "outputs": [
      {
       "output_type": "stream",
       "stream": "stdout",
       "text": [
        "[['human', 'interface', 'computer'], ['survey', 'user', 'computer', 'system', 'response', 'time'], ['eps', 'user', 'interface', 'system'], ['system', 'human', 'system', 'eps'], ['user', 'response', 'time'], ['trees'], ['graph', 'trees'], ['graph', 'minors', 'trees'], ['graph', 'minors', 'survey']]\n"
       ]
      }
     ],
     "prompt_number": 48
    },
    {
     "cell_type": "code",
     "collapsed": false,
     "input": [
      "# Create Dictionary.\n",
      "id2word = corpora.Dictionary(texts)\n",
      "# Creates the Bag of Word corpus.\n",
      "mm = [id2word.doc2bow(text) for text in texts]\n",
      "\n",
      "# Trains the LDA models.\n",
      "lda = models.ldamodel.LdaModel(corpus=mm, id2word=id2word, num_topics=3, update_every=1, chunksize=10000, passes=1)\n",
      "\n",
      "print lda"
     ],
     "language": "python",
     "metadata": {},
     "outputs": [
      {
       "output_type": "stream",
       "stream": "stderr",
       "text": [
        "WARNING:gensim.models.ldamodel:too few updates, training might not converge; consider increasing the number of passes or iterations to improve accuracy\n"
       ]
      },
      {
       "output_type": "stream",
       "stream": "stdout",
       "text": [
        "LdaModel(num_terms=12, num_topics=3, decay=0.5, chunksize=10000, alpha=[ 0.33333333  0.33333333  0.33333333])\n"
       ]
      }
     ],
     "prompt_number": 55
    },
    {
     "cell_type": "code",
     "collapsed": false,
     "input": [
      "# Prints the topics.\n",
      "for top in lda.print_topics():\n",
      "  print top\n",
      "print\n",
      "\n",
      "# Assigns the topics to the documents in corpus\n",
      "lda_corpus = lda[mm]\n",
      "\n",
      "# Find the threshold, let's set the threshold to be 1/#clusters,\n",
      "# To prove that the threshold is sane, we average the sum of all probabilities:\n",
      "\n",
      "# this just flattens the list of scores \n",
      "scores = list(chain(*[[score for topic,score in topic] for topic in [doc for doc in lda_corpus]]))\n",
      "threshold = sum(scores)/len(scores)\n",
      "'''print threshold\n",
      "print'''\n",
      "#print documents\n",
      "'''for i,j in zip(lda_corpus,documents):\n",
      "    print i, j'''\n",
      "cluster1 = [j for i,j in zip(lda_corpus,documents) if i[0][1] > threshold]\n",
      "cluster2 = [j for i,j in zip(lda_corpus,documents) if i[1][1] > threshold]\n",
      "cluster3 = [j for i,j in zip(lda_corpus,documents) if i[2][1] > threshold]\n",
      "\n",
      "\n",
      "print cluster1\n",
      "print cluster2\n",
      "print cluster3"
     ],
     "language": "python",
     "metadata": {},
     "outputs": [
      {
       "output_type": "stream",
       "stream": "stdout",
       "text": [
        "0.265*system + 0.183*eps + 0.109*user + 0.108*interface + 0.107*human + 0.038*trees + 0.035*graph + 0.032*minors + 0.031*time + 0.031*computer\n",
        "0.141*computer + 0.141*user + 0.141*response + 0.141*time + 0.085*system + 0.084*survey + 0.081*interface + 0.081*human + 0.031*trees + 0.027*graph\n",
        "0.246*graph + 0.238*trees + 0.174*minors + 0.101*survey + 0.032*user + 0.031*system + 0.031*human + 0.030*interface + 0.030*eps + 0.030*response\n",
        "\n",
        "['The EPS user interface management system', 'System and human system engineering testing of EPS']\n",
        "['Human machine interface for lab abc computer applications', 'A survey of user opinion of computer system response time', 'Relation of user perceived response time to error measurement']\n",
        "['The generation of random binary unordered trees', 'The intersection graph of paths in trees', 'Graph minors IV Widths of trees and well quasi ordering', 'Graph minors A survey']\n"
       ]
      }
     ],
     "prompt_number": 56
    },
    {
     "cell_type": "code",
     "collapsed": false,
     "input": [],
     "language": "python",
     "metadata": {},
     "outputs": []
    }
   ],
   "metadata": {}
  }
 ]
}