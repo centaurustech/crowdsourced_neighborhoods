{
 "metadata": {
  "name": "",
  "signature": "sha256:04b0434f4e9f9f7b183071eaf8c60835fcf62f0339c9f0d64a36b67180718cff"
 },
 "nbformat": 3,
 "nbformat_minor": 0,
 "worksheets": [
  {
   "cells": [
    {
     "cell_type": "code",
     "collapsed": false,
     "input": [
      "import json\n",
      "import os\n",
      "import math\n",
      "import csv\n",
      "\n",
      "from os.path import isfile,join\n",
      "import shapefile\n",
      "import shapely\n",
      "import csv\n",
      "from pyproj import Proj, transform\n",
      "from shapely.geometry import Polygon\n",
      "from shapely.geometry import Point"
     ],
     "language": "python",
     "metadata": {},
     "outputs": [],
     "prompt_number": 1
    },
    {
     "cell_type": "code",
     "collapsed": false,
     "input": [
      "## Import social media data and write to CSV\n",
      "def write(path):\n",
      "    length_files = len(os.listdir(path))\n",
      "    for j in range(2):\n",
      "#     for j in range(int(math.ceil(length_files/100))):\n",
      "        FS_jsons = [ f for f in os.listdir(path) if isfile(join(path,f)) ][100*j:100*(j+1)]\n",
      "#         for i in FS_jsons: \n",
      "        for i in FS_jsons[0]:\n",
      "            with open('%s%s' %(path, i)) as f: \n",
      "                data = json.load(f).values()\n",
      "                for h in range(1):\n",
      "#                 for h in range(len(data)):\n",
      "                    unique_IDs = set([data[h]['raw_source']['id']])\n",
      "                    print unique_IDs\n",
      "#                 category = [data[i]['category'] for i in data]\n",
      "#                 location = []\n",
      "                \n",
      "write('/Users/wenfeixu/Dropbox (MIT)/MIT/2014_Fall/CS 109/final_project/crowdsourced_neighborhoods/python/foursquare/')\n",
      "\n"
     ],
     "language": "python",
     "metadata": {},
     "outputs": [
      {
       "ename": "IOError",
       "evalue": "[Errno 2] No such file or directory: '/Users/wenfeixu/Dropbox (MIT)/MIT/2014_Fall/CS 109/final_project/crowdsourced_neighborhoods/python/foursquare/2'",
       "output_type": "pyerr",
       "traceback": [
        "\u001b[0;31m---------------------------------------------------------------------------\u001b[0m\n\u001b[0;31mIOError\u001b[0m                                   Traceback (most recent call last)",
        "\u001b[0;32m<ipython-input-15-d31718c3479d>\u001b[0m in \u001b[0;36m<module>\u001b[0;34m()\u001b[0m\n\u001b[1;32m     16\u001b[0m \u001b[0;31m#                 location = []\u001b[0m\u001b[0;34m\u001b[0m\u001b[0;34m\u001b[0m\u001b[0m\n\u001b[1;32m     17\u001b[0m \u001b[0;34m\u001b[0m\u001b[0m\n\u001b[0;32m---> 18\u001b[0;31m \u001b[0mwrite\u001b[0m\u001b[0;34m(\u001b[0m\u001b[0;34m'/Users/wenfeixu/Dropbox (MIT)/MIT/2014_Fall/CS 109/final_project/crowdsourced_neighborhoods/python/foursquare/'\u001b[0m\u001b[0;34m)\u001b[0m\u001b[0;34m\u001b[0m\u001b[0m\n\u001b[0m\u001b[1;32m     19\u001b[0m \u001b[0;34m\u001b[0m\u001b[0m\n",
        "\u001b[0;32m<ipython-input-15-d31718c3479d>\u001b[0m in \u001b[0;36mwrite\u001b[0;34m(path)\u001b[0m\n\u001b[1;32m      7\u001b[0m \u001b[0;31m#         for i in FS_jsons:\u001b[0m\u001b[0;34m\u001b[0m\u001b[0;34m\u001b[0m\u001b[0m\n\u001b[1;32m      8\u001b[0m         \u001b[0;32mfor\u001b[0m \u001b[0mi\u001b[0m \u001b[0;32min\u001b[0m \u001b[0mFS_jsons\u001b[0m\u001b[0;34m[\u001b[0m\u001b[0;36m0\u001b[0m\u001b[0;34m]\u001b[0m\u001b[0;34m:\u001b[0m\u001b[0;34m\u001b[0m\u001b[0m\n\u001b[0;32m----> 9\u001b[0;31m             \u001b[0;32mwith\u001b[0m \u001b[0mopen\u001b[0m\u001b[0;34m(\u001b[0m\u001b[0;34m'%s%s'\u001b[0m \u001b[0;34m%\u001b[0m\u001b[0;34m(\u001b[0m\u001b[0mpath\u001b[0m\u001b[0;34m,\u001b[0m \u001b[0mi\u001b[0m\u001b[0;34m)\u001b[0m\u001b[0;34m)\u001b[0m \u001b[0;32mas\u001b[0m \u001b[0mf\u001b[0m\u001b[0;34m:\u001b[0m\u001b[0;34m\u001b[0m\u001b[0m\n\u001b[0m\u001b[1;32m     10\u001b[0m                 \u001b[0mdata\u001b[0m \u001b[0;34m=\u001b[0m \u001b[0mjson\u001b[0m\u001b[0;34m.\u001b[0m\u001b[0mload\u001b[0m\u001b[0;34m(\u001b[0m\u001b[0mf\u001b[0m\u001b[0;34m)\u001b[0m\u001b[0;34m.\u001b[0m\u001b[0mvalues\u001b[0m\u001b[0;34m(\u001b[0m\u001b[0;34m)\u001b[0m\u001b[0;34m\u001b[0m\u001b[0m\n\u001b[1;32m     11\u001b[0m                 \u001b[0;32mfor\u001b[0m \u001b[0mh\u001b[0m \u001b[0;32min\u001b[0m \u001b[0mrange\u001b[0m\u001b[0;34m(\u001b[0m\u001b[0;36m1\u001b[0m\u001b[0;34m)\u001b[0m\u001b[0;34m:\u001b[0m\u001b[0;34m\u001b[0m\u001b[0m\n",
        "\u001b[0;31mIOError\u001b[0m: [Errno 2] No such file or directory: '/Users/wenfeixu/Dropbox (MIT)/MIT/2014_Fall/CS 109/final_project/crowdsourced_neighborhoods/python/foursquare/2'"
       ]
      }
     ],
     "prompt_number": 15
    },
    {
     "cell_type": "code",
     "collapsed": false,
     "input": [],
     "language": "python",
     "metadata": {},
     "outputs": []
    }
   ],
   "metadata": {}
  }
 ]
}